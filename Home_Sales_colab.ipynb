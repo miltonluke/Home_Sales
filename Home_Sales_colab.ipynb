{
 "cells": [
  {
   "cell_type": "code",
   "execution_count": 1,
   "metadata": {
    "colab": {
     "base_uri": "https://localhost:8080/"
    },
    "id": "a_KW73O2e3dw",
    "outputId": "090d55f9-c158-479a-e559-ef550fa54d5a"
   },
   "outputs": [
    {
     "name": "stdout",
     "output_type": "stream",
     "text": [
      "Get:1 https://cloud.r-project.org/bin/linux/ubuntu jammy-cran40/ InRelease [3,632 B]\n",
      "Hit:2 http://archive.ubuntu.com/ubuntu jammy InRelease\n",
      "Get:3 http://security.ubuntu.com/ubuntu jammy-security InRelease [129 kB]\n",
      "Get:4 https://r2u.stat.illinois.edu/ubuntu jammy InRelease [6,555 B]\n",
      "Get:5 http://archive.ubuntu.com/ubuntu jammy-updates InRelease [128 kB]\n",
      "Hit:6 https://developer.download.nvidia.com/compute/cuda/repos/ubuntu2204/x86_64  InRelease\n",
      "Hit:7 https://ppa.launchpadcontent.net/deadsnakes/ppa/ubuntu jammy InRelease\n",
      "Hit:8 https://ppa.launchpadcontent.net/graphics-drivers/ppa/ubuntu jammy InRelease\n",
      "Get:9 http://archive.ubuntu.com/ubuntu jammy-backports InRelease [127 kB]\n",
      "Hit:10 https://ppa.launchpadcontent.net/ubuntugis/ppa/ubuntu jammy InRelease\n",
      "Get:11 https://r2u.stat.illinois.edu/ubuntu jammy/main all Packages [8,767 kB]\n",
      "Get:12 https://r2u.stat.illinois.edu/ubuntu jammy/main amd64 Packages [2,679 kB]\n",
      "Get:13 http://security.ubuntu.com/ubuntu jammy-security/main amd64 Packages [2,692 kB]\n",
      "Get:14 http://security.ubuntu.com/ubuntu jammy-security/universe amd64 Packages [1,237 kB]\n",
      "Get:15 http://archive.ubuntu.com/ubuntu jammy-updates/restricted amd64 Packages [3,962 kB]\n",
      "Get:16 http://archive.ubuntu.com/ubuntu jammy-updates/main amd64 Packages [3,003 kB]\n",
      "Get:17 http://archive.ubuntu.com/ubuntu jammy-updates/universe amd64 Packages [1,535 kB]\n",
      "Get:18 http://archive.ubuntu.com/ubuntu jammy-backports/main amd64 Packages [82.7 kB]\n",
      "Get:19 http://archive.ubuntu.com/ubuntu jammy-backports/universe amd64 Packages [35.2 kB]\n",
      "Fetched 24.4 MB in 9s (2,766 kB/s)\n",
      "Reading package lists... Done\n",
      "W: Skipping acquire of configured file 'main/source/Sources' as repository 'https://r2u.stat.illinois.edu/ubuntu jammy InRelease' does not seem to provide it (sources.list entry misspelt?)\n"
     ]
    }
   ],
   "source": [
    "import os\n",
    "# Find the latest version of spark 3.x  from http://www.apache.org/dist/spark/ and enter as the spark version\n",
    "# For example:\n",
    "# spark_version = 'spark-3.5.5'\n",
    "spark_version = 'spark-3.5.5'\n",
    "os.environ['SPARK_VERSION']=spark_version\n",
    "\n",
    "# Install Spark and Java\n",
    "!apt-get update\n",
    "!apt-get install openjdk-11-jdk-headless -qq > /dev/null\n",
    "!wget -q http://www.apache.org/dist/spark/$SPARK_VERSION/$SPARK_VERSION-bin-hadoop3.tgz\n",
    "!tar xf $SPARK_VERSION-bin-hadoop3.tgz\n",
    "!pip install -q findspark\n",
    "\n",
    "# Set Environment Variables\n",
    "os.environ[\"JAVA_HOME\"] = \"/usr/lib/jvm/java-11-openjdk-amd64\"\n",
    "os.environ[\"SPARK_HOME\"] = f\"/content/{spark_version}-bin-hadoop3\"\n",
    "\n",
    "# Start a SparkSession\n",
    "import findspark\n",
    "findspark.init()"
   ]
  },
  {
   "cell_type": "code",
   "execution_count": 2,
   "metadata": {
    "id": "2XbWNf1Te5fM"
   },
   "outputs": [],
   "source": [
    "# Import packages\n",
    "from pyspark.sql import SparkSession\n",
    "import time\n",
    "\n",
    "# Create a SparkSession\n",
    "spark = SparkSession.builder.appName(\"SparkSQL\").getOrCreate()"
   ]
  },
  {
   "cell_type": "code",
   "execution_count": 5,
   "metadata": {
    "colab": {
     "base_uri": "https://localhost:8080/"
    },
    "id": "wOJqxG_RPSwp",
    "outputId": "c2ae4aa4-3878-4aeb-ef65-14a126416b86"
   },
   "outputs": [
    {
     "name": "stdout",
     "output_type": "stream",
     "text": [
      "+--------------------+----------+----------+------+--------+---------+-----------+--------+------+----------+----+\n",
      "|                  id|      date|date_built| price|bedrooms|bathrooms|sqft_living|sqft_lot|floors|waterfront|view|\n",
      "+--------------------+----------+----------+------+--------+---------+-----------+--------+------+----------+----+\n",
      "|f8a53099-ba1c-47d...|2022-04-08|      2016|936923|       4|        3|       3167|   11733|     2|         1|  76|\n",
      "|7530a2d8-1ae3-451...|2021-06-13|      2013|379628|       2|        2|       2235|   14384|     1|         0|  23|\n",
      "|43de979c-0bf0-4c9...|2019-04-12|      2014|417866|       2|        2|       2127|   10575|     2|         0|   0|\n",
      "|b672c137-b88c-48b...|2019-10-16|      2016|239895|       2|        2|       1631|   11149|     2|         0|   0|\n",
      "|e0726d4d-d595-407...|2022-01-08|      2017|424418|       3|        2|       2249|   13878|     2|         0|   4|\n",
      "+--------------------+----------+----------+------+--------+---------+-----------+--------+------+----------+----+\n",
      "only showing top 5 rows\n",
      "\n"
     ]
    }
   ],
   "source": [
    "# 1. Read the home_sales_revised.csv from the provided AWS S3 bucket location into a PySpark DataFrame.\n",
    "from pyspark import SparkFiles\n",
    "url = \"https://2u-data-curriculum-team.s3.amazonaws.com/dataviz-classroom/v1.2/22-big-data/home_sales_revised.csv\"\n",
    "spark.sparkContext.addFile(url)\n",
    "df = spark.read.csv(SparkFiles.get(\"home_sales_revised.csv\"), header=True, inferSchema=True)\n",
    "df.show(5)"
   ]
  },
  {
   "cell_type": "code",
   "execution_count": 31,
   "metadata": {
    "id": "RoljcJ7WPpnm"
   },
   "outputs": [],
   "source": [
    "# 2. Create a temporary view of the DataFrame.\n",
    "df.createOrReplaceTempView(\"home_sales\")"
   ]
  },
  {
   "cell_type": "code",
   "execution_count": 32,
   "metadata": {
    "colab": {
     "base_uri": "https://localhost:8080/"
    },
    "id": "L6fkwOeOmqvq",
    "outputId": "87935135-9fac-4e3c-8298-39026cf2872e"
   },
   "outputs": [
    {
     "name": "stdout",
     "output_type": "stream",
     "text": [
      "+----+---------+\n",
      "|year|avg_price|\n",
      "+----+---------+\n",
      "|2019| 300263.7|\n",
      "|2020|298353.78|\n",
      "|2021|301819.44|\n",
      "|2022|296363.88|\n",
      "+----+---------+\n",
      "\n"
     ]
    }
   ],
   "source": [
    "# 3. What is the average price for a four bedroom house sold per year, rounded to two decimal places?\n",
    "avg_price_4_bedrooms = spark.sql(\"\"\"\n",
    "    SELECT\n",
    "      YEAR(date) AS year,\n",
    "      ROUND(AVG(price), 2) AS avg_price\n",
    "    FROM home_sales\n",
    "    WHERE bedrooms = 4\n",
    "    GROUP BY year\n",
    "    ORDER BY year\n",
    "\"\"\")\n",
    "avg_price_4_bedrooms.show()"
   ]
  },
  {
   "cell_type": "code",
   "execution_count": 33,
   "metadata": {
    "colab": {
     "base_uri": "https://localhost:8080/"
    },
    "id": "l8p_tUS8h8it",
    "outputId": "2cb08083-d4a1-4b60-e165-da890857be55"
   },
   "outputs": [
    {
     "name": "stdout",
     "output_type": "stream",
     "text": [
      "+----------+---------+\n",
      "|year_built|avg_price|\n",
      "+----------+---------+\n",
      "|      2010|292859.62|\n",
      "|      2011|291117.47|\n",
      "|      2012|293683.19|\n",
      "|      2013|295962.27|\n",
      "|      2014|290852.27|\n",
      "|      2015| 288770.3|\n",
      "|      2016|290555.07|\n",
      "|      2017|292676.79|\n",
      "+----------+---------+\n",
      "\n"
     ]
    }
   ],
   "source": [
    "# 4. What is the average price of a home for each year the home was built,\n",
    "# that have 3 bedrooms and 3 bathrooms, rounded to two decimal places?\n",
    "avg_price_3_bed_3_bath = spark.sql(\"\"\"\n",
    "    SELECT\n",
    "      date_built AS year_built,\n",
    "      ROUND(AVG(price), 2) AS avg_price\n",
    "    FROM home_sales\n",
    "    WHERE bedrooms = 3 AND bathrooms = 3\n",
    "    GROUP BY year_built\n",
    "    ORDER BY year_built;\n",
    "\"\"\")\n",
    "avg_price_3_bed_3_bath.show()"
   ]
  },
  {
   "cell_type": "code",
   "execution_count": 34,
   "metadata": {
    "colab": {
     "base_uri": "https://localhost:8080/"
    },
    "id": "Y-Eytz64liDU",
    "outputId": "bc3e4426-6b93-4a21-fa20-76acfd11b664"
   },
   "outputs": [
    {
     "name": "stdout",
     "output_type": "stream",
     "text": [
      "+----------+---------+\n",
      "|year_built|avg_price|\n",
      "+----------+---------+\n",
      "|      2010|285010.22|\n",
      "|      2011|276553.81|\n",
      "|      2012|307539.97|\n",
      "|      2013|303676.79|\n",
      "|      2014|298264.72|\n",
      "|      2015|297609.97|\n",
      "|      2016| 293965.1|\n",
      "|      2017|280317.58|\n",
      "+----------+---------+\n",
      "\n"
     ]
    }
   ],
   "source": [
    "# 5. What is the average price of a home for each year the home was built,\n",
    "# that have 3 bedrooms, 3 bathrooms, with two floors,\n",
    "# and are greater than or equal to 2,000 square feet, rounded to two decimal places?\n",
    "avg_price_specific = spark.sql(\"\"\"\n",
    "    SELECT\n",
    "      date_built AS year_built,\n",
    "      ROUND(AVG(price), 2) AS avg_price\n",
    "    FROM home_sales\n",
    "    WHERE bedrooms = 3 AND bathrooms = 3 AND floors = 2 AND sqft_living >= 2000\n",
    "    GROUP BY year_built\n",
    "    ORDER BY year_built\n",
    "\"\"\")\n",
    "avg_price_specific.show()"
   ]
  },
  {
   "cell_type": "code",
   "execution_count": 35,
   "metadata": {
    "colab": {
     "base_uri": "https://localhost:8080/"
    },
    "id": "GUrfgOX1pCRd",
    "outputId": "d696ce9a-52bd-4e45-8088-9127953d936b"
   },
   "outputs": [
    {
     "name": "stdout",
     "output_type": "stream",
     "text": [
      "+----+----------+\n",
      "|view| avg_price|\n",
      "+----+----------+\n",
      "| 100| 1026669.5|\n",
      "|  99|1061201.42|\n",
      "|  98|1053739.33|\n",
      "|  97|1129040.15|\n",
      "|  96|1017815.92|\n",
      "|  95| 1054325.6|\n",
      "|  94| 1033536.2|\n",
      "|  93|1026006.06|\n",
      "|  92| 970402.55|\n",
      "|  91|1137372.73|\n",
      "|  90|1062654.16|\n",
      "|  89|1107839.15|\n",
      "|  88|1031719.35|\n",
      "|  87| 1072285.2|\n",
      "|  86|1070444.25|\n",
      "|  85|1056336.74|\n",
      "|  84|1117233.13|\n",
      "|  83|1033965.93|\n",
      "|  82| 1063498.0|\n",
      "|  81|1053472.79|\n",
      "+----+----------+\n",
      "only showing top 20 rows\n",
      "\n",
      "--- 0.7648429870605469 seconds ---\n"
     ]
    }
   ],
   "source": [
    "# 6. What is the average price of a home per \"view\" rating, rounded to two decimal places,\n",
    "# having an average home price greater than or equal to $350,000? Order by descending view rating.\n",
    "# Although this is a small dataset, determine the run time for this query.\n",
    "\n",
    "start_time = time.time()\n",
    "\n",
    "avg_price_view = spark.sql(\"\"\"\n",
    "    SELECT\n",
    "      view,\n",
    "      ROUND(AVG(price), 2) AS avg_price\n",
    "    FROM home_sales\n",
    "    GROUP BY view\n",
    "    HAVING AVG(price) >= 350000\n",
    "    ORDER BY view DESC;\n",
    "\"\"\")\n",
    "avg_price_view.show()\n",
    "\n",
    "print(\"--- %s seconds ---\" % (time.time() - start_time))"
   ]
  },
  {
   "cell_type": "code",
   "execution_count": 42,
   "metadata": {
    "id": "KAhk3ZD2tFy8"
   },
   "outputs": [],
   "source": [
    "# 7. Cache the the temporary table home_sales.\n",
    "spark.catalog.cacheTable(\"home_sales\")"
   ]
  },
  {
   "cell_type": "code",
   "execution_count": 44,
   "metadata": {
    "colab": {
     "base_uri": "https://localhost:8080/"
    },
    "id": "4opVhbvxtL-i",
    "outputId": "981943e5-e67c-4124-f304-73aed9ed3be8"
   },
   "outputs": [
    {
     "data": {
      "text/plain": [
       "True"
      ]
     },
     "execution_count": 44,
     "metadata": {},
     "output_type": "execute_result"
    }
   ],
   "source": [
    "# 8. Check if the table is cached.\n",
    "spark.catalog.isCached('home_sales')"
   ]
  },
  {
   "cell_type": "code",
   "execution_count": 47,
   "metadata": {
    "colab": {
     "base_uri": "https://localhost:8080/"
    },
    "id": "5GnL46lwTSEk",
    "outputId": "a8bf75e8-a0ae-46cd-e4a9-c798c84b00f1"
   },
   "outputs": [
    {
     "name": "stdout",
     "output_type": "stream",
     "text": [
      "+----+----------+\n",
      "|view| avg_price|\n",
      "+----+----------+\n",
      "| 100| 1026669.5|\n",
      "|  99|1061201.42|\n",
      "|  98|1053739.33|\n",
      "|  97|1129040.15|\n",
      "|  96|1017815.92|\n",
      "|  95| 1054325.6|\n",
      "|  94| 1033536.2|\n",
      "|  93|1026006.06|\n",
      "|  92| 970402.55|\n",
      "|  91|1137372.73|\n",
      "|  90|1062654.16|\n",
      "|  89|1107839.15|\n",
      "|  88|1031719.35|\n",
      "|  87| 1072285.2|\n",
      "|  86|1070444.25|\n",
      "|  85|1056336.74|\n",
      "|  84|1117233.13|\n",
      "|  83|1033965.93|\n",
      "|  82| 1063498.0|\n",
      "|  81|1053472.79|\n",
      "+----+----------+\n",
      "only showing top 20 rows\n",
      "\n",
      "--- 0.2757253646850586 seconds ---\n"
     ]
    }
   ],
   "source": [
    "# 9. Using the cached data, run the last query above, that calculates\n",
    "# the average price of a home per \"view\" rating, rounded to two decimal places,\n",
    "# having an average home price greater than or equal to $350,000.\n",
    "# Determine the runtime and compare it to the uncached runtime.\n",
    "\n",
    "start_time = time.time()\n",
    "\n",
    "avg_price_view = spark.sql(\"\"\"\n",
    "    SELECT\n",
    "      view,\n",
    "      ROUND(AVG(price), 2) AS avg_price\n",
    "    FROM home_sales\n",
    "    GROUP BY view\n",
    "    HAVING AVG(price) >= 350000\n",
    "    ORDER BY view DESC;\n",
    "\"\"\")\n",
    "avg_price_view.show()\n",
    "\n",
    "print(\"--- %s seconds ---\" % (time.time() - start_time))"
   ]
  },
  {
   "cell_type": "code",
   "execution_count": 48,
   "metadata": {
    "id": "Qm12WN9isHBR"
   },
   "outputs": [],
   "source": [
    "# 10. Partition by the \"date_built\" field on the formatted parquet home sales data\n",
    "output_path = \"/path/to/save/home_sales_parquet\"\n",
    "\n",
    "df.write.partitionBy(\"date_built\").mode(\"overwrite\").parquet(output_path)"
   ]
  },
  {
   "cell_type": "code",
   "execution_count": 49,
   "metadata": {
    "id": "AZ7BgY61sRqY"
   },
   "outputs": [],
   "source": [
    "# 11. Read the parquet formatted data.\n",
    "partitioned_df = spark.read.parquet(output_path)"
   ]
  },
  {
   "cell_type": "code",
   "execution_count": 50,
   "metadata": {
    "id": "J6MJkHfvVcvh"
   },
   "outputs": [],
   "source": [
    "# 12. Create a temporary table for the parquet data.\n",
    "partitioned_df.createOrReplaceTempView(\"home_sales_parquet\")"
   ]
  },
  {
   "cell_type": "code",
   "execution_count": 53,
   "metadata": {
    "colab": {
     "base_uri": "https://localhost:8080/"
    },
    "id": "G_Vhb52rU1Sn",
    "outputId": "a4293ff5-22e0-4bbe-d60e-aba7295d8da5"
   },
   "outputs": [
    {
     "name": "stdout",
     "output_type": "stream",
     "text": [
      "+----+----------+\n",
      "|view| avg_price|\n",
      "+----+----------+\n",
      "| 100| 1026669.5|\n",
      "|  99|1061201.42|\n",
      "|  98|1053739.33|\n",
      "|  97|1129040.15|\n",
      "|  96|1017815.92|\n",
      "|  95| 1054325.6|\n",
      "|  94| 1033536.2|\n",
      "|  93|1026006.06|\n",
      "|  92| 970402.55|\n",
      "|  91|1137372.73|\n",
      "|  90|1062654.16|\n",
      "|  89|1107839.15|\n",
      "|  88|1031719.35|\n",
      "|  87| 1072285.2|\n",
      "|  86|1070444.25|\n",
      "|  85|1056336.74|\n",
      "|  84|1117233.13|\n",
      "|  83|1033965.93|\n",
      "|  82| 1063498.0|\n",
      "|  81|1053472.79|\n",
      "+----+----------+\n",
      "only showing top 20 rows\n",
      "\n",
      "--- 0.5351080894470215 seconds ---\n"
     ]
    }
   ],
   "source": [
    "# 13. Using the parquet DataFrame, run the last query above, that calculates\n",
    "# the average price of a home per \"view\" rating, rounded to two decimal places,\n",
    "# having an average home price greater than or equal to $350,000.\n",
    "# Determine the runtime and compare it to the cached runtime.\n",
    "\n",
    "start_time = time.time()\n",
    "\n",
    "avg_price_view = spark.sql(\"\"\"\n",
    "    SELECT\n",
    "      view,\n",
    "      ROUND(AVG(price), 2) AS avg_price\n",
    "    FROM home_sales_parquet\n",
    "    GROUP BY view\n",
    "    HAVING AVG(price) >= 350000\n",
    "    ORDER BY view DESC;\n",
    "\"\"\")\n",
    "avg_price_view.show()\n",
    "\n",
    "print(\"--- %s seconds ---\" % (time.time() - start_time))"
   ]
  },
  {
   "cell_type": "code",
   "execution_count": 56,
   "metadata": {
    "id": "hjjYzQGjtbq8"
   },
   "outputs": [],
   "source": [
    "# 14. Uncache the home_sales temporary table.\n",
    "spark.catalog.uncacheTable(\"home_sales\")"
   ]
  },
  {
   "cell_type": "code",
   "execution_count": 57,
   "metadata": {
    "colab": {
     "base_uri": "https://localhost:8080/"
    },
    "id": "Sy9NBvO7tlmm",
    "outputId": "b2bbb1cb-6739-47b5-e3f6-d3f045e5f909"
   },
   "outputs": [
    {
     "name": "stdout",
     "output_type": "stream",
     "text": [
      "Is 'home_sales' still cached? False\n"
     ]
    }
   ],
   "source": [
    "# 15. Check if the home_sales is no longer cached\n",
    "print(\"Is 'home_sales' still cached?\", spark.catalog.isCached(\"home_sales\"))"
   ]
  },
  {
   "cell_type": "code",
   "execution_count": null,
   "metadata": {
    "id": "Si-BNruRUGK3"
   },
   "outputs": [],
   "source": []
  }
 ],
 "metadata": {
  "colab": {
   "provenance": []
  },
  "gpuClass": "standard",
  "kernelspec": {
   "display_name": "Python 3 (ipykernel)",
   "language": "python",
   "name": "python3"
  },
  "language_info": {
   "codemirror_mode": {
    "name": "ipython",
    "version": 3
   },
   "file_extension": ".py",
   "mimetype": "text/x-python",
   "name": "python",
   "nbconvert_exporter": "python",
   "pygments_lexer": "ipython3",
   "version": "3.12.4"
  },
  "nteract": {
   "version": "0.28.0"
  }
 },
 "nbformat": 4,
 "nbformat_minor": 4
}
